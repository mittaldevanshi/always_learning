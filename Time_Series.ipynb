{
 "cells": [
  {
   "cell_type": "markdown",
   "metadata": {},
   "source": [
    "## Time Series\n",
    "\n",
    "### Naturally add a correlatioon as we sample adjacent points in time - hence we cant use the classical statistical inference.\n",
    "\n"
   ]
  },
  {
   "cell_type": "markdown",
   "metadata": {},
   "source": [
    "### Terminologies\n",
    "\n",
    "Strong Stationary: series is invariant of time \n",
    "\n",
    "Weak Stationary: Mean and variance do not change over time.\n",
    "\n",
    "Non Stationary: Trend Time Series/ Seasonal Time Series.\n",
    "\n",
    "#### Three ways to check if Stationary or not:\n",
    "\n",
    "##### https://machinelearningmastery.com/time-series-data-stationary-python/\n",
    "\n",
    "\n",
    "1. Summary Statistics - Sample the data and compare means/variance.\n",
    "2. Plot - if you see a trend/pattern while plotting it is most likely not a time series.\n",
    "3. Statistical Test - Augmented Dickey-Fuller test\n",
    "\n",
    "Stationary time series is required for modeling and when we do not have that (which is in most cases) \n",
    "we use different transformations.\n",
    "\n",
    "\n"
   ]
  },
  {
   "cell_type": "code",
   "execution_count": 24,
   "metadata": {},
   "outputs": [],
   "source": [
    "import pandas as pd\n",
    "import matplotlib.pyplot as plt\n",
    "from statsmodels.tsa.stattools import adfuller\n",
    "female_births=pd.read_csv('daily-total-female-births.csv')\n",
    "airline_passengers=pd.read_csv('airline-passengers.csv')"
   ]
  },
  {
   "cell_type": "code",
   "execution_count": 11,
   "metadata": {},
   "outputs": [],
   "source": [
    "def check_stats(data, col):\n",
    "    t1=data[col][0:round(len(data)/2)]\n",
    "    t2=data[col][round(len(data)/2):len(data)]\n",
    "    \n",
    "    print(t1.mean(), t2.mean(), t1.var(), t2.var())"
   ]
  },
  {
   "cell_type": "code",
   "execution_count": 13,
   "metadata": {},
   "outputs": [
    {
     "name": "stdout",
     "output_type": "stream",
     "text": [
      "39.76373626373626 44.185792349726775 49.48530751016939 48.97628055005103\n"
     ]
    }
   ],
   "source": [
    "check_stats(female_births, 'Births')"
   ]
  },
  {
   "cell_type": "code",
   "execution_count": 15,
   "metadata": {},
   "outputs": [
    {
     "name": "stdout",
     "output_type": "stream",
     "text": [
      "182.90277777777777 377.69444444444446 2275.6946400625984 7471.736306729265\n"
     ]
    }
   ],
   "source": [
    "check_stats(airline_passengers, 'Passengers')"
   ]
  },
  {
   "cell_type": "code",
   "execution_count": 19,
   "metadata": {},
   "outputs": [],
   "source": [
    "def plotseries(data, col):\n",
    "    data[col].hist()\n",
    "    plt.show()\n"
   ]
  },
  {
   "cell_type": "code",
   "execution_count": 23,
   "metadata": {},
   "outputs": [
    {
     "data": {
      "image/png": "[encoded data removed]",
      "text/plain": [
       "<Figure size 432x288 with 1 Axes>"
      ]
     },
     "metadata": {
      "needs_background": "light"
     },
     "output_type": "display_data"
    },
    {
     "data": {
      "image/png": "[encoded data removed]",
      "text/plain": [
       "<Figure size 432x288 with 1 Axes>"
      ]
     },
     "metadata": {
      "needs_background": "light"
     },
     "output_type": "display_data"
    }
   ],
   "source": [
    "plotseries(female_births, 'Births')\n",
    "plotseries(airline_passengers, 'Passengers')"
   ]
  },
  {
   "cell_type": "markdown",
   "metadata": {},
   "source": [
    "Null Hypothesis: The data has a unit root i.e data is non-stationary\n",
    "\n",
    "Alternative: Data does not have a unit root.\n",
    "\n"
   ]
  },
  {
   "cell_type": "code",
   "execution_count": 25,
   "metadata": {},
   "outputs": [],
   "source": [
    "def dickey_fuller(data, col):\n",
    "    result = adfuller(data[col])\n",
    "    print('ADF Statistic: %f' % result[0])\n",
    "    print('p-value: %f' % result[1])\n",
    "    print('Critical Values:')\n",
    "    for key, value in result[4].items():\n",
    "        print('\\t%s: %.3f' % (key, value))"
   ]
  },
  {
   "cell_type": "code",
   "execution_count": 26,
   "metadata": {},
   "outputs": [
    {
     "name": "stdout",
     "output_type": "stream",
     "text": [
      "ADF Statistic: -4.808291\n",
      "p-value: 0.000052\n",
      "Critical Values:\n",
      "\t1%: -3.449\n",
      "\t5%: -2.870\n",
      "\t10%: -2.571\n",
      "ADF Statistic: 0.815369\n",
      "p-value: 0.991880\n",
      "Critical Values:\n",
      "\t1%: -3.482\n",
      "\t5%: -2.884\n",
      "\t10%: -2.579\n"
     ]
    }
   ],
   "source": [
    "dickey_fuller(female_births, 'Births')\n",
    "dickey_fuller(airline_passengers, 'Passengers')"
   ]
  },
  {
   "cell_type": "markdown",
   "metadata": {},
   "source": [
    "The Female births dataset is stationary and the airline passengers is non stationary."
   ]
  },
  {
   "cell_type": "markdown",
   "metadata": {},
   "source": [
    "### Different kinds of transformations that can be done:\n",
    "\n",
    "1. Difference with lag of x.\n",
    "2. difference with previous value (First differences)\n",
    "3. Log transformation"
   ]
  },
  {
   "cell_type": "markdown",
   "metadata": {},
   "source": [
    "## Teaser question\n",
    "\n",
    "You flip a fair coin 576 times. Without using a calculator, calculate the probability of flipping at least 312 heads.\n",
    "\n",
    "\n",
    "Solution:\n",
    "\n",
    "Coin follows Binomial distribution with p=0.5.\n",
    "Mean = np = 576x 0.5 = 288\n",
    "Variance = np(1-p)= 576x 0.25 = 144\n",
    "SD = 12\n",
    "\n",
    "Coincidentally 312 is Mean + 2 * SD here. (95% falls within)\n",
    "So According to normal distribution that would be 5%/2 = 2.5%.\n"
   ]
  },
  {
   "cell_type": "markdown",
   "metadata": {},
   "source": [
    "### Stochastic Process:\n",
    "\n",
    "family of random variables\n",
    "\n",
    "$X_t$ ~ distribution($mean_t$, $var_t$)\n",
    "\n",
    "Stationarity is a characteristic of the stochastic process.\n",
    "\n"
   ]
  },
  {
   "cell_type": "markdown",
   "metadata": {},
   "source": [
    "To be added:\n",
    "\n",
    "Auto"
   ]
  }
 ],
 "metadata": {
  "kernelspec": {
   "display_name": "Python 3",
   "language": "python",
   "name": "python3"
  },
  "language_info": {
   "codemirror_mode": {
    "name": "ipython",
    "version": 3
   },
   "file_extension": ".py",
   "mimetype": "text/x-python",
   "name": "python",
   "nbconvert_exporter": "python",
   "pygments_lexer": "ipython3",
   "version": "3.7.6"
  }
 },
 "nbformat": 4,
 "nbformat_minor": 4
}
