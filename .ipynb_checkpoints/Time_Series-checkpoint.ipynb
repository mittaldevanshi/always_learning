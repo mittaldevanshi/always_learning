{
 "cells": [
  {
   "cell_type": "markdown",
   "metadata": {},
   "source": [
    "## Time Series\n",
    "\n",
    "### Naturally add a correlatioon as we sample adjacent points in time - hence we cant use the classical statistical inference.\n",
    "\n"
   ]
  },
  {
   "cell_type": "markdown",
   "metadata": {},
   "source": [
    "### Terminologies\n",
    "\n",
    "Strong Stationary: series is invariant of time \n",
    "\n",
    "Weak Stationary: Mean and variance do not change over time.\n",
    "\n",
    "Non Stationary: Trend Time Series/ Seasonal Time Series.\n",
    "\n",
    "Here when we say stationary, we mean \"Weak Stationarity\".\n",
    "\n",
    "#### Three ways to check if Stationary or not:\n",
    "\n",
    "##### https://machinelearningmastery.com/time-series-data-stationary-python/\n",
    "\n",
    "\n",
    "1. Summary Statistics - Sample the data and compare means/variance.\n",
    "2. Plot - if you see a trend/pattern while plotting it is most likely not stationary.\n",
    "3. Statistical Test - Augmented Dickey-Fuller test\n",
    "\n",
    "Stationary time series is required for modeling and when we do not have that (which is in most cases) \n",
    "we use different transformations.\n",
    "\n",
    "\n"
   ]
  },
  {
   "cell_type": "code",
   "execution_count": 85,
   "metadata": {},
   "outputs": [],
   "source": [
    "import pandas as pd\n",
    "import matplotlib.pyplot as plt\n",
    "import numpy as np\n",
    "from statsmodels.tsa.stattools import adfuller\n",
    "from statsmodels.tsa.stattools import acf, pacf\n",
    "from statsmodels.graphics.tsaplots import plot_acf, plot_pacf\n",
    "female_births=pd.read_csv('daily-total-female-births.csv')\n",
    "airline_passengers=pd.read_csv('airline-passengers.csv')"
   ]
  },
  {
   "cell_type": "code",
   "execution_count": 11,
   "metadata": {},
   "outputs": [],
   "source": [
    "def check_stats(data, col):\n",
    "    t1=data[col][0:round(len(data)/2)]\n",
    "    t2=data[col][round(len(data)/2):len(data)]\n",
    "    \n",
    "    print(t1.mean(), t2.mean(), t1.var(), t2.var())"
   ]
  },
  {
   "cell_type": "code",
   "execution_count": 13,
   "metadata": {},
   "outputs": [
    {
     "name": "stdout",
     "output_type": "stream",
     "text": [
      "39.76373626373626 44.185792349726775 49.48530751016939 48.97628055005103\n"
     ]
    }
   ],
   "source": [
    "check_stats(female_births, 'Births')"
   ]
  },
  {
   "cell_type": "code",
   "execution_count": 15,
   "metadata": {},
   "outputs": [
    {
     "name": "stdout",
     "output_type": "stream",
     "text": [
      "182.90277777777777 377.69444444444446 2275.6946400625984 7471.736306729265\n"
     ]
    }
   ],
   "source": [
    "check_stats(airline_passengers, 'Passengers')"
   ]
  },
  {
   "cell_type": "code",
   "execution_count": 19,
   "metadata": {},
   "outputs": [],
   "source": [
    "def plotseries(data, col):\n",
    "    data[col].hist()\n",
    "    plt.show()\n"
   ]
  },
  {
   "cell_type": "code",
   "execution_count": 23,
   "metadata": {},
   "outputs": [
    {
     "data": {
      "image/png": "[encoded data removed]",
      "text/plain": [
       "<Figure size 432x288 with 1 Axes>"
      ]
     },
     "metadata": {
      "needs_background": "light"
     },
     "output_type": "display_data"
    },
    {
     "data": {
      "image/png": "[encoded data removed]",
      "text/plain": [
       "<Figure size 432x288 with 1 Axes>"
      ]
     },
     "metadata": {
      "needs_background": "light"
     },
     "output_type": "display_data"
    }
   ],
   "source": [
    "plotseries(female_births, 'Births')\n",
    "plotseries(airline_passengers, 'Passengers')"
   ]
  },
  {
   "cell_type": "markdown",
   "metadata": {},
   "source": [
    "\n",
    "### Dickey Fuller Test:\n",
    "\n",
    "Null Hypothesis: The data has a unit root i.e data is non-stationary\n",
    "\n",
    "Alternative: Data does not have a unit root.\n",
    "\n"
   ]
  },
  {
   "cell_type": "code",
   "execution_count": 25,
   "metadata": {},
   "outputs": [],
   "source": [
    "def dickey_fuller(data, col):\n",
    "    result = adfuller(data[col])\n",
    "    print('ADF Statistic: %f' % result[0])\n",
    "    print('p-value: %f' % result[1])\n",
    "    print('Critical Values:')\n",
    "    for key, value in result[4].items():\n",
    "        print('\\t%s: %.3f' % (key, value))"
   ]
  },
  {
   "cell_type": "code",
   "execution_count": 26,
   "metadata": {},
   "outputs": [
    {
     "name": "stdout",
     "output_type": "stream",
     "text": [
      "ADF Statistic: -4.808291\n",
      "p-value: 0.000052\n",
      "Critical Values:\n",
      "\t1%: -3.449\n",
      "\t5%: -2.870\n",
      "\t10%: -2.571\n",
      "ADF Statistic: 0.815369\n",
      "p-value: 0.991880\n",
      "Critical Values:\n",
      "\t1%: -3.482\n",
      "\t5%: -2.884\n",
      "\t10%: -2.579\n"
     ]
    }
   ],
   "source": [
    "dickey_fuller(female_births, 'Births')\n",
    "dickey_fuller(airline_passengers, 'Passengers')"
   ]
  },
  {
   "cell_type": "markdown",
   "metadata": {},
   "source": [
    "The Female births dataset rejects null that is series is stationary and \n",
    "\n",
    "the airline passengers does not reject Null i.e we do not have enough evidence to say its stationary."
   ]
  },
  {
   "cell_type": "markdown",
   "metadata": {},
   "source": [
    "### Different kinds of transformations that can be done:\n",
    "\n",
    "1. Difference with lag of x.\n",
    "2. difference with previous value (First differences)\n",
    "3. Log transformation"
   ]
  },
  {
   "cell_type": "markdown",
   "metadata": {},
   "source": [
    "## Teaser question\n",
    "\n",
    "You flip a fair coin 576 times. Without using a calculator, calculate the probability of flipping at least 312 heads.\n",
    "\n",
    "\n",
    "Solution:\n",
    "\n",
    "Coin follows Binomial distribution with p=0.5.\n",
    "Mean = np = 576x 0.5 = 288\n",
    "Variance = np(1-p)= 576x 0.25 = 144\n",
    "SD = 12\n",
    "\n",
    "Coincidentally 312 is Mean + 2 * SD here. (falls within 95% acc to Normal distribution)\n",
    "So that would be 5%/2 = 2.5%.\n"
   ]
  },
  {
   "cell_type": "markdown",
   "metadata": {},
   "source": [
    "### Stochastic Process:\n",
    "\n",
    "family of random variables\n",
    "\n",
    "$X_t$ ~ distribution($mean_t$, $var_t$) where t denotes time.\n",
    "\n",
    "Stationarity is a characteristic of the stochastic process.\n",
    "\n"
   ]
  },
  {
   "cell_type": "markdown",
   "metadata": {},
   "source": [
    "### Before getting into Autocovariance and Autocorrelation, lets get on the basics on Covariance/Correlation.\n",
    "\n",
    "1. Covariance : direction of relationship between 2 variables\n",
    "\n",
    "It is affected by the change in scale of the variables\n",
    "\n",
    "$\\operatorname{cov} (X,Y)=\\frac{1}{n}\\sum_{i=1}^n (x_i-E(X))(y_i-E(Y))$\n",
    "\n",
    "\n",
    "\n",
    "\n",
    "\n",
    "2. Correlation: direction and strength of relationship between 2 variables \n",
    "\n",
    "It is a function of covariance and not affected by change in scale between two variables. It is dimensionless.\n",
    "\n",
    "$\\operatorname{corr} (X,Y)=\\frac{1}{(n)(\\sigma_{x})(\\sigma_{y})}\\sum_{i=1}^n (x_i-E(X))(y_i-E(Y))=\n",
    "            \\frac{\\operatorname{cov} (X,Y)}{(\\sigma_{x})(\\sigma_{y})}$\n",
    "\n",
    "\n",
    "Range of correlation = (-1, 1)\n",
    "\n",
    "\n",
    "In the language of Regression, the Correlation and R squared (Explained Variation) are strongly related.\n",
    "\n",
    "$(Correlation)^2 = R^2 $\n",
    "\n",
    "Sign of Correlation = Sign of Regression Slope\n",
    "\n",
    "#### Note: Use n-1 instead of n if the Standard deviation is Sample Standard Deviation.\n",
    "\n"
   ]
  },
  {
   "cell_type": "markdown",
   "metadata": {},
   "source": [
    "### Moving on to Autocovariance and Autocorrelation.\n",
    "\n",
    "\n",
    "AutoCovariance:\n",
    "\n",
    "$\\operatorname{\\gamma} (s, t)=\\operatorname{cov} (X_{s}, X_{t})$\n",
    "\n",
    "$\\operatorname{\\gamma} (k)=\\operatorname{\\gamma} (t, t+k) \\approx c_{k}$ where k is the \"LAG\"\n",
    "\n",
    "If k = 0, then we are basically get $covariance(X_{t},X_{t})$ = variance \n",
    "\n",
    "\n",
    "\n",
    "Since we are assuming the time series is Weak stationary, the mean and sd will remain the same and hence the only factor autocovariance depends on is the LAG i.e k and it does not matter what t is.\n",
    "\n",
    "\n",
    "So with that the autocovariance coefficient is basically:\n",
    "\n",
    "$c_{k}=\\frac{1}{(N)}\\sum_{t=1}^{N-k} (x_t-E(X))(x_{t+k}-E(X))$"
   ]
  },
  {
   "cell_type": "code",
   "execution_count": 61,
   "metadata": {},
   "outputs": [
    {
     "data": {
      "text/plain": [
       "array([25.84 , -1.712, -7.344, -5.016,  1.152])"
      ]
     },
     "execution_count": 61,
     "metadata": {},
     "output_type": "execute_result"
    }
   ],
   "source": [
    "### Calculate Autocovariance using stats library:\n",
    "import statsmodels.tsa.api as smt\n",
    "smt.stattools.acovf(female_births['Births'][0:5])\n",
    "\n",
    "## The output is the autocovariance with lag 0, 1, 2 and so on.."
   ]
  },
  {
   "cell_type": "code",
   "execution_count": 60,
   "metadata": {},
   "outputs": [],
   "source": [
    "## Raw implementation\n",
    "def cov_auto_samp(X,delta):\n",
    "    N = len(X)\n",
    "    Xs = np.average(X)\n",
    "    autoCov = 0\n",
    "    for i in np.arange(0, N-delta):\n",
    "        autoCov += (X[i+delta]-Xs)*(X[i]-Xs)\n",
    "    return autoCov/len(X)"
   ]
  },
  {
   "cell_type": "code",
   "execution_count": 59,
   "metadata": {},
   "outputs": [
    {
     "name": "stdout",
     "output_type": "stream",
     "text": [
      "25.839999999999996\n",
      "-1.7120000000000033\n",
      "-7.344000000000003\n",
      "-5.015999999999998\n",
      "1.152000000000003\n"
     ]
    }
   ],
   "source": [
    "for i in range(0, 5):\n",
    "    print(cov_auto_samp(female_births['Births'][0:5], i))"
   ]
  },
  {
   "cell_type": "code",
   "execution_count": 62,
   "metadata": {},
   "outputs": [
    {
     "data": {
      "text/plain": [
       "<matplotlib.axes._subplots.AxesSubplot at 0x7f9448336710>"
      ]
     },
     "execution_count": 62,
     "metadata": {},
     "output_type": "execute_result"
    },
    {
     "data": {
      "image/png": "[encoded data removed]",
      "text/plain": [
       "<Figure size 432x288 with 1 Axes>"
      ]
     },
     "metadata": {
      "needs_background": "light"
     },
     "output_type": "display_data"
    }
   ],
   "source": [
    "female_births.plot(grid=True)"
   ]
  },
  {
   "cell_type": "code",
   "execution_count": 63,
   "metadata": {},
   "outputs": [
    {
     "data": {
      "text/plain": [
       "<matplotlib.axes._subplots.AxesSubplot at 0x7f9449555c50>"
      ]
     },
     "execution_count": 63,
     "metadata": {},
     "output_type": "execute_result"
    },
    {
     "data": {
      "image/png": "[encoded data removed]",
      "text/plain": [
       "<Figure size 432x288 with 1 Axes>"
      ]
     },
     "metadata": {
      "needs_background": "light"
     },
     "output_type": "display_data"
    }
   ],
   "source": [
    "airline_passengers.plot(grid=True)"
   ]
  },
  {
   "cell_type": "markdown",
   "metadata": {},
   "source": [
    "### Correlation between two time series.\n",
    "\n",
    "To get the correlation between two time series, we get the correlatioon between the percent change instead of actual values. If we use the actual values, we may get strong correlation which may not make sense in cases especially when two time series have similar trend but are completely unrelated.\n"
   ]
  },
  {
   "cell_type": "markdown",
   "metadata": {},
   "source": [
    "#### Autocorrelation:\n",
    "\n",
    "Correlation of time series with a lagged version of itself.\n",
    "\n",
    "In Mathematical forms deriving from autocovariance it can be written as:\n",
    "\n",
    "\n",
    "$\\operatorname{\\rho} (k)=\\frac{\\gamma_k}{\\gamma_0} $\n",
    "\n",
    "$\\rho_{k}=\\frac{1}{(N)(\\sigma_{x_t}^2)}\\sum_{t=1}^{N-k} (x_t-E(X))(x_{t+k}-E(X))$"
   ]
  },
  {
   "cell_type": "code",
   "execution_count": 87,
   "metadata": {},
   "outputs": [
    {
     "data": {
      "text/plain": [
       "0.21787727006731272"
      ]
     },
     "execution_count": 87,
     "metadata": {},
     "output_type": "execute_result"
    }
   ],
   "source": [
    "female_births['Births'].autocorr()  # by default lag of 1"
   ]
  },
  {
   "cell_type": "code",
   "execution_count": 88,
   "metadata": {},
   "outputs": [
    {
     "data": {
      "text/plain": [
       "array([ 1.        ,  0.21724118,  0.15287758,  0.10821254,  0.09066059,\n",
       "        0.09595481,  0.09104012,  0.19508071,  0.14115295,  0.06117859,\n",
       "        0.04781522,  0.04770662, -0.01964707,  0.02287422,  0.08112657,\n",
       "        0.11185686,  0.07333732,  0.01501845,  0.07270333,  0.06859   ,\n",
       "        0.09280107,  0.26386846,  0.14012147,  0.06070286,  0.08716232,\n",
       "        0.05038825,  0.0650489 ,  0.11466565,  0.1552232 ,  0.12850638,\n",
       "        0.10358981,  0.09734643,  0.04912286,  0.04022798,  0.05838555,\n",
       "        0.05359812,  0.10151053,  0.08268663,  0.0912185 ,  0.11192192,\n",
       "        0.05652846])"
      ]
     },
     "execution_count": 88,
     "metadata": {},
     "output_type": "execute_result"
    }
   ],
   "source": [
    "acf(female_births['Births']) # all lags autocorrelation"
   ]
  },
  {
   "cell_type": "code",
   "execution_count": 115,
   "metadata": {},
   "outputs": [],
   "source": [
    "# raw implementation with lag=1\n",
    "def autocorr(data, col):\n",
    "    data['lagged_col']=data[col].shift(1)\n",
    "    #print(data['lagged_col'])\n",
    "    return data[col].corr(data['lagged_col'])"
   ]
  },
  {
   "cell_type": "code",
   "execution_count": 116,
   "metadata": {},
   "outputs": [
    {
     "data": {
      "text/plain": [
       "0.21787727006731272"
      ]
     },
     "execution_count": 116,
     "metadata": {},
     "output_type": "execute_result"
    }
   ],
   "source": [
    "autocorr(female_births,'Births')"
   ]
  },
  {
   "cell_type": "code",
   "execution_count": 127,
   "metadata": {},
   "outputs": [
    {
     "data": {
      "image/png": "[encoded data removed]",
      "text/plain": [
       "<Figure size 432x288 with 1 Axes>"
      ]
     },
     "execution_count": 127,
     "metadata": {},
     "output_type": "execute_result"
    },
    {
     "data": {
      "image/png": "[encoded data removed]",
      "text/plain": [
       "<Figure size 432x288 with 1 Axes>"
      ]
     },
     "metadata": {
      "needs_background": "light"
     },
     "output_type": "display_data"
    },
    {
     "data": {
      "image/png": "[encoded data removed]",
      "text/plain": [
       "<Figure size 432x288 with 1 Axes>"
      ]
     },
     "metadata": {
      "needs_background": "light"
     },
     "output_type": "display_data"
    }
   ],
   "source": [
    "smt.graphics.plot_acf(female_births['Births'],lags=5,alpha=0.05) \n",
    "smt.graphics.plot_acf(female_births['Births'],lags=5,alpha=1) "
   ]
  },
  {
   "cell_type": "markdown",
   "metadata": {},
   "source": [
    "### The above is basically plotting the autocorrelation with lag 0, 1 and so on.\n",
    "\n",
    "#### Alpha is the confidence interval is the chance that the sample autocorrelation falls outside the window."
   ]
  },
  {
   "cell_type": "markdown",
   "metadata": {},
   "source": [
    "### Sampling in Time series\n",
    "\n",
    "Sometimes noticeable difference might not be visible daily and the data should be resampled to sample annually or weekly.\n",
    "\n",
    "One such example is interest rates - daily interest rates will not fluctuate a lot but they do fluctuate yearly, hence it is important to sample by year.\n",
    "\n"
   ]
  },
  {
   "cell_type": "code",
   "execution_count": 129,
   "metadata": {},
   "outputs": [
    {
     "name": "stdout",
     "output_type": "stream",
     "text": [
      "                 Date  Births  lagged_col\n",
      "Date                                     \n",
      "1959-01-01 1959-01-01      35         NaN\n",
      "1959-01-02 1959-01-02      32        35.0\n",
      "1959-01-03 1959-01-03      30        32.0\n",
      "1959-01-04 1959-01-04      31        30.0\n",
      "1959-01-05 1959-01-05      44        31.0\n"
     ]
    },
    {
     "data": {
      "text/html": [
       "<div>\n",
       "<style scoped>\n",
       "    .dataframe tbody tr th:only-of-type {\n",
       "        vertical-align: middle;\n",
       "    }\n",
       "\n",
       "    .dataframe tbody tr th {\n",
       "        vertical-align: top;\n",
       "    }\n",
       "\n",
       "    .dataframe thead th {\n",
       "        text-align: right;\n",
       "    }\n",
       "</style>\n",
       "<table border=\"1\" class=\"dataframe\">\n",
       "  <thead>\n",
       "    <tr style=\"text-align: right;\">\n",
       "      <th></th>\n",
       "      <th>Date</th>\n",
       "      <th>Births</th>\n",
       "    </tr>\n",
       "    <tr>\n",
       "      <th>Date</th>\n",
       "      <th></th>\n",
       "      <th></th>\n",
       "    </tr>\n",
       "  </thead>\n",
       "  <tbody>\n",
       "    <tr>\n",
       "      <th>1959-01-31</th>\n",
       "      <td>1959-01-31</td>\n",
       "      <td>24</td>\n",
       "    </tr>\n",
       "    <tr>\n",
       "      <th>1959-02-28</th>\n",
       "      <td>1959-02-28</td>\n",
       "      <td>30</td>\n",
       "    </tr>\n",
       "    <tr>\n",
       "      <th>1959-03-31</th>\n",
       "      <td>1959-03-31</td>\n",
       "      <td>41</td>\n",
       "    </tr>\n",
       "    <tr>\n",
       "      <th>1959-04-30</th>\n",
       "      <td>1959-04-30</td>\n",
       "      <td>51</td>\n",
       "    </tr>\n",
       "    <tr>\n",
       "      <th>1959-05-31</th>\n",
       "      <td>1959-05-31</td>\n",
       "      <td>38</td>\n",
       "    </tr>\n",
       "    <tr>\n",
       "      <th>1959-06-30</th>\n",
       "      <td>1959-06-30</td>\n",
       "      <td>59</td>\n",
       "    </tr>\n",
       "    <tr>\n",
       "      <th>1959-07-31</th>\n",
       "      <td>1959-07-31</td>\n",
       "      <td>41</td>\n",
       "    </tr>\n",
       "    <tr>\n",
       "      <th>1959-08-31</th>\n",
       "      <td>1959-08-31</td>\n",
       "      <td>44</td>\n",
       "    </tr>\n",
       "    <tr>\n",
       "      <th>1959-09-30</th>\n",
       "      <td>1959-09-30</td>\n",
       "      <td>56</td>\n",
       "    </tr>\n",
       "    <tr>\n",
       "      <th>1959-10-31</th>\n",
       "      <td>1959-10-31</td>\n",
       "      <td>46</td>\n",
       "    </tr>\n",
       "    <tr>\n",
       "      <th>1959-11-30</th>\n",
       "      <td>1959-11-30</td>\n",
       "      <td>52</td>\n",
       "    </tr>\n",
       "    <tr>\n",
       "      <th>1959-12-31</th>\n",
       "      <td>1959-12-31</td>\n",
       "      <td>50</td>\n",
       "    </tr>\n",
       "  </tbody>\n",
       "</table>\n",
       "</div>"
      ],
      "text/plain": [
       "                 Date  Births\n",
       "Date                         \n",
       "1959-01-31 1959-01-31      24\n",
       "1959-02-28 1959-02-28      30\n",
       "1959-03-31 1959-03-31      41\n",
       "1959-04-30 1959-04-30      51\n",
       "1959-05-31 1959-05-31      38\n",
       "1959-06-30 1959-06-30      59\n",
       "1959-07-31 1959-07-31      41\n",
       "1959-08-31 1959-08-31      44\n",
       "1959-09-30 1959-09-30      56\n",
       "1959-10-31 1959-10-31      46\n",
       "1959-11-30 1959-11-30      52\n",
       "1959-12-31 1959-12-31      50"
      ]
     },
     "execution_count": 129,
     "metadata": {},
     "output_type": "execute_result"
    }
   ],
   "source": [
    "female_births.index=pd.to_datetime(female_births['Date'])\n",
    "print(female_births.head())\n",
    "\n",
    "#resampling monthly, \"A\" for annually and so on.\n",
    "female_births[['Date', 'Births']].resample(rule=\"M\").last()"
   ]
  },
  {
   "cell_type": "markdown",
   "metadata": {},
   "source": [
    "### Next up:\n",
    "\n",
    "Random Walk\n",
    "Moving Averages\n",
    "\n"
   ]
  },
  {
   "cell_type": "code",
   "execution_count": null,
   "metadata": {},
   "outputs": [],
   "source": []
  }
 ],
 "metadata": {
  "kernelspec": {
   "display_name": "Python 3",
   "language": "python",
   "name": "python3"
  },
  "language_info": {
   "codemirror_mode": {
    "name": "ipython",
    "version": 3
   },
   "file_extension": ".py",
   "mimetype": "text/x-python",
   "name": "python",
   "nbconvert_exporter": "python",
   "pygments_lexer": "ipython3",
   "version": "3.7.6"
  }
 },
 "nbformat": 4,
 "nbformat_minor": 4
}
