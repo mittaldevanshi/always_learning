{
 "cells": [
  {
   "cell_type": "markdown",
   "metadata": {},
   "source": [
    "## Simple Random Sampling\n",
    "\n",
    "### Each item has equal chance = 1/Number of items of being selected.\n"
   ]
  },
  {
   "cell_type": "code",
   "execution_count": 4,
   "metadata": {},
   "outputs": [
    {
     "name": "stdout",
     "output_type": "stream",
     "text": [
      "[1, 3, 2]\n"
     ]
    }
   ],
   "source": [
    "from random import sample\n",
    "import random\n",
    "import numpy as np\n",
    "from bisect import bisect\n",
    "import pandas as pd\n",
    "\n",
    "list1 = [1, 2, 3, 4, 5] \n",
    "  \n",
    "print(sample(list1,3))\n"
   ]
  },
  {
   "cell_type": "code",
   "execution_count": 5,
   "metadata": {},
   "outputs": [
    {
     "name": "stdout",
     "output_type": "stream",
     "text": [
      "[5, 1, 2, 3]\n"
     ]
    }
   ],
   "source": [
    "# if you want the same output, use random.seed(x) where x is an integer.\n",
    "random.seed(10)\n",
    "\n",
    "print(sample(list1,4))\n",
    "\n"
   ]
  },
  {
   "cell_type": "markdown",
   "metadata": {},
   "source": [
    "## SQL Question on sampling/big data\n",
    "\n",
    "### Let's say we have a table with an id and name field. The table holds over 100 million rows and we want to sample a random row in the table without throttling the database.\n",
    "\n",
    "### Write a query to randomly sample a row from this table.\n",
    "\n",
    "#### With not big datasets, it may be okay to use a simple sql query using rand()\n",
    "\n",
    "SELECT * FROM table ORDER BY RAND() LIMIT 1\n",
    "\n",
    "#### But with a table of over 100 million rows the query would take a long time and a more efficient query would be:\n",
    "\n",
    "SELECT *\n",
    "  FROM table r1 JOIN\n",
    "       (SELECT CEIL(RAND() *\n",
    "                    (SELECT MAX(id)\n",
    "                       FROM table)) AS id\n",
    "        ) AS r2\n",
    "       where r1.id>=r2.id \n",
    "       order by r1.id ASC\n",
    "       limit 1;\n",
    "\n",
    "\n",
    "\n",
    "http://jan.kneschke.de/projects/mysql/order-by-rand/"
   ]
  },
  {
   "cell_type": "markdown",
   "metadata": {},
   "source": [
    "## Multimodal distribution (more than 1 mode in a distribution)\n",
    "\n",
    "\n",
    "#### For example: [\"white\", \"green\", \"red\"] are the keys, weights list and we have the desired sample size.\n",
    "\n"
   ]
  },
  {
   "cell_type": "code",
   "execution_count": 6,
   "metadata": {},
   "outputs": [
    {
     "data": {
      "text/plain": [
       "['green',\n",
       " 'white',\n",
       " 'green',\n",
       " 'green',\n",
       " 'green',\n",
       " 'white',\n",
       " 'green',\n",
       " 'white',\n",
       " 'white',\n",
       " 'red']"
      ]
     },
     "execution_count": 6,
     "metadata": {},
     "output_type": "execute_result"
    }
   ],
   "source": [
    "## using built in random function\n",
    "\n",
    "random.choices([\"white\", \"green\", \"red\"], [12, 12, 4], k=10)\n"
   ]
  },
  {
   "cell_type": "code",
   "execution_count": 7,
   "metadata": {},
   "outputs": [
    {
     "name": "stdout",
     "output_type": "stream",
     "text": [
      "['red', 'white', 'red', 'green', 'white', 'white', 'green', 'green', 'green', 'green']\n"
     ]
    }
   ],
   "source": [
    "## raw implementation\n",
    "\n",
    "def weighted_choice(choices):\n",
    "    values, weights = zip(*choices)\n",
    "    total = 0\n",
    "    cum_weights = []\n",
    "    for w in weights:\n",
    "        total += w\n",
    "        cum_weights.append(total)\n",
    "    x = random.random() * total\n",
    "    i = bisect(cum_weights, x)\n",
    "    \n",
    "    # i is basically the position in the cum_weights list at random position \"x\" between 0 and total\n",
    "    \n",
    "    # in case of below example: chance of it being <= 12 = 1/12, \n",
    "    #between 12 and 24 will be 1/12 and between 24 and 28 will be 1/4 \n",
    "    \n",
    "    return values[i]\n",
    "\n",
    "n=10\n",
    "random_choice=[weighted_choice([(\"white\", 12),  (\"green\", 12), (\"red\", 4)]) for i in range(0, n)]\n",
    "print(random_choice)"
   ]
  },
  {
   "cell_type": "markdown",
   "metadata": {},
   "source": [
    "### An interesting observation:\n",
    "\n",
    "While looking at the SQL question above and the raw implementation of the above, we see that we are trying to get the maximum id/weight and multiplying with a random number for randomization and then kind of appplying a divide and conquer approach which works well for big data."
   ]
  },
  {
   "cell_type": "markdown",
   "metadata": {},
   "source": [
    "## Stratified Sampling\n",
    "\n",
    "### Samples are picked from each strata - when you have enough information about the population and you think it can be broken into groups to make the sample more representative you should use stratified sampling.\n",
    "\n",
    "#### Each strata is homogenous.\n",
    "\n",
    "#### The allocation can be done in two ways:\n",
    "#### 1. Uniform (same sample size picked from each strata) \n",
    "\n",
    " Should use it when cost does not really matter and the stratas have similar distribution\n",
    " \n"
   ]
  },
  {
   "cell_type": "code",
   "execution_count": 8,
   "metadata": {},
   "outputs": [
    {
     "data": {
      "text/html": [
       "<div>\n",
       "<style scoped>\n",
       "    .dataframe tbody tr th:only-of-type {\n",
       "        vertical-align: middle;\n",
       "    }\n",
       "\n",
       "    .dataframe tbody tr th {\n",
       "        vertical-align: top;\n",
       "    }\n",
       "\n",
       "    .dataframe thead th {\n",
       "        text-align: right;\n",
       "    }\n",
       "</style>\n",
       "<table border=\"1\" class=\"dataframe\">\n",
       "  <thead>\n",
       "    <tr style=\"text-align: right;\">\n",
       "      <th></th>\n",
       "      <th>A</th>\n",
       "      <th>B</th>\n",
       "    </tr>\n",
       "  </thead>\n",
       "  <tbody>\n",
       "    <tr>\n",
       "      <th>2</th>\n",
       "      <td>1</td>\n",
       "      <td>2</td>\n",
       "    </tr>\n",
       "    <tr>\n",
       "      <th>0</th>\n",
       "      <td>1</td>\n",
       "      <td>0</td>\n",
       "    </tr>\n",
       "    <tr>\n",
       "      <th>1</th>\n",
       "      <td>1</td>\n",
       "      <td>1</td>\n",
       "    </tr>\n",
       "    <tr>\n",
       "      <th>5</th>\n",
       "      <td>2</td>\n",
       "      <td>5</td>\n",
       "    </tr>\n",
       "    <tr>\n",
       "      <th>6</th>\n",
       "      <td>2</td>\n",
       "      <td>6</td>\n",
       "    </tr>\n",
       "    <tr>\n",
       "      <th>3</th>\n",
       "      <td>2</td>\n",
       "      <td>3</td>\n",
       "    </tr>\n",
       "    <tr>\n",
       "      <th>7</th>\n",
       "      <td>3</td>\n",
       "      <td>7</td>\n",
       "    </tr>\n",
       "    <tr>\n",
       "      <th>8</th>\n",
       "      <td>4</td>\n",
       "      <td>8</td>\n",
       "    </tr>\n",
       "    <tr>\n",
       "      <th>9</th>\n",
       "      <td>4</td>\n",
       "      <td>9</td>\n",
       "    </tr>\n",
       "  </tbody>\n",
       "</table>\n",
       "</div>"
      ],
      "text/plain": [
       "   A  B\n",
       "2  1  2\n",
       "0  1  0\n",
       "1  1  1\n",
       "5  2  5\n",
       "6  2  6\n",
       "3  2  3\n",
       "7  3  7\n",
       "8  4  8\n",
       "9  4  9"
      ]
     },
     "execution_count": 8,
     "metadata": {},
     "output_type": "execute_result"
    }
   ],
   "source": [
    "\n",
    "df = pd.DataFrame(dict(\n",
    "        A=[1, 1, 1, 2, 2, 2, 2, 3, 4, 4],\n",
    "        B=range(10)\n",
    "    ))\n",
    "\n",
    "# Column that you want to stratify by, \"3\" is the desired sample size you want from each strata.\n",
    "df.groupby('A', group_keys=False).apply(lambda x: x.sample(min(len(x), 3)))"
   ]
  },
  {
   "cell_type": "markdown",
   "metadata": {},
   "source": [
    "#### 2. Proportionally\n",
    "\n",
    "    How is the sample size determined?\n",
    "\n",
    "    Sample size of strata=(Size of the strata in the Population/ Total Population) * Entire Sample Size"
   ]
  },
  {
   "cell_type": "code",
   "execution_count": 9,
   "metadata": {},
   "outputs": [],
   "source": [
    "def stratified_prop(df, col, required_sample_size): # col is the strata\n",
    "    popn_size = len(df[col])\n",
    "    return df.groupby(col, group_keys=False).apply(lambda x: x.sample(int(np.rint(required_sample_size*len(x)/popn_size)))).reset_index(drop=True)\n",
    "    "
   ]
  },
  {
   "cell_type": "code",
   "execution_count": 10,
   "metadata": {},
   "outputs": [
    {
     "data": {
      "text/html": [
       "<div>\n",
       "<style scoped>\n",
       "    .dataframe tbody tr th:only-of-type {\n",
       "        vertical-align: middle;\n",
       "    }\n",
       "\n",
       "    .dataframe tbody tr th {\n",
       "        vertical-align: top;\n",
       "    }\n",
       "\n",
       "    .dataframe thead th {\n",
       "        text-align: right;\n",
       "    }\n",
       "</style>\n",
       "<table border=\"1\" class=\"dataframe\">\n",
       "  <thead>\n",
       "    <tr style=\"text-align: right;\">\n",
       "      <th></th>\n",
       "      <th>A</th>\n",
       "      <th>B</th>\n",
       "    </tr>\n",
       "  </thead>\n",
       "  <tbody>\n",
       "    <tr>\n",
       "      <th>0</th>\n",
       "      <td>1</td>\n",
       "      <td>2</td>\n",
       "    </tr>\n",
       "    <tr>\n",
       "      <th>1</th>\n",
       "      <td>1</td>\n",
       "      <td>1</td>\n",
       "    </tr>\n",
       "    <tr>\n",
       "      <th>2</th>\n",
       "      <td>2</td>\n",
       "      <td>6</td>\n",
       "    </tr>\n",
       "    <tr>\n",
       "      <th>3</th>\n",
       "      <td>2</td>\n",
       "      <td>4</td>\n",
       "    </tr>\n",
       "    <tr>\n",
       "      <th>4</th>\n",
       "      <td>2</td>\n",
       "      <td>5</td>\n",
       "    </tr>\n",
       "    <tr>\n",
       "      <th>5</th>\n",
       "      <td>3</td>\n",
       "      <td>7</td>\n",
       "    </tr>\n",
       "    <tr>\n",
       "      <th>6</th>\n",
       "      <td>4</td>\n",
       "      <td>8</td>\n",
       "    </tr>\n",
       "    <tr>\n",
       "      <th>7</th>\n",
       "      <td>4</td>\n",
       "      <td>9</td>\n",
       "    </tr>\n",
       "  </tbody>\n",
       "</table>\n",
       "</div>"
      ],
      "text/plain": [
       "   A  B\n",
       "0  1  2\n",
       "1  1  1\n",
       "2  2  6\n",
       "3  2  4\n",
       "4  2  5\n",
       "5  3  7\n",
       "6  4  8\n",
       "7  4  9"
      ]
     },
     "execution_count": 10,
     "metadata": {},
     "output_type": "execute_result"
    }
   ],
   "source": [
    "stratified_prop(df, 'A', 8)"
   ]
  },
  {
   "cell_type": "markdown",
   "metadata": {},
   "source": [
    "## Clustered Sampling\n",
    "\n",
    "### Clusters are created and each cluster is basically treated as a unit to be picked randomly.\n",
    "### Each cluster is heterogenous within and homogenuous between clusters. Generally each cluster is of same size.\n",
    "\n",
    "#### Have been used in geographical/area specific surveys to reduce cost and resources.\n"
   ]
  },
  {
   "cell_type": "code",
   "execution_count": 11,
   "metadata": {},
   "outputs": [],
   "source": [
    "def cluster_sampling(df, col_cluster_by, number_clusters_tocreate, sample_size):\n",
    "    df['cluster'] = pd.cut(df[col_cluster_by], bins=number_clusters_tocreate, labels=False)\n",
    "    clusters_picked=sample(range(0, number_clusters_tocreate), sample_size)\n",
    "\n",
    "    return df[df['cluster'].isin(clusters_picked)].reset_index(drop=True)"
   ]
  },
  {
   "cell_type": "code",
   "execution_count": 12,
   "metadata": {},
   "outputs": [
    {
     "data": {
      "text/html": [
       "<div>\n",
       "<style scoped>\n",
       "    .dataframe tbody tr th:only-of-type {\n",
       "        vertical-align: middle;\n",
       "    }\n",
       "\n",
       "    .dataframe tbody tr th {\n",
       "        vertical-align: top;\n",
       "    }\n",
       "\n",
       "    .dataframe thead th {\n",
       "        text-align: right;\n",
       "    }\n",
       "</style>\n",
       "<table border=\"1\" class=\"dataframe\">\n",
       "  <thead>\n",
       "    <tr style=\"text-align: right;\">\n",
       "      <th></th>\n",
       "      <th>A</th>\n",
       "      <th>B</th>\n",
       "      <th>cluster</th>\n",
       "    </tr>\n",
       "  </thead>\n",
       "  <tbody>\n",
       "    <tr>\n",
       "      <th>0</th>\n",
       "      <td>2</td>\n",
       "      <td>3</td>\n",
       "      <td>1</td>\n",
       "    </tr>\n",
       "    <tr>\n",
       "      <th>1</th>\n",
       "      <td>2</td>\n",
       "      <td>4</td>\n",
       "      <td>1</td>\n",
       "    </tr>\n",
       "    <tr>\n",
       "      <th>2</th>\n",
       "      <td>2</td>\n",
       "      <td>5</td>\n",
       "      <td>1</td>\n",
       "    </tr>\n",
       "    <tr>\n",
       "      <th>3</th>\n",
       "      <td>2</td>\n",
       "      <td>6</td>\n",
       "      <td>1</td>\n",
       "    </tr>\n",
       "    <tr>\n",
       "      <th>4</th>\n",
       "      <td>4</td>\n",
       "      <td>8</td>\n",
       "      <td>3</td>\n",
       "    </tr>\n",
       "    <tr>\n",
       "      <th>5</th>\n",
       "      <td>4</td>\n",
       "      <td>9</td>\n",
       "      <td>3</td>\n",
       "    </tr>\n",
       "  </tbody>\n",
       "</table>\n",
       "</div>"
      ],
      "text/plain": [
       "   A  B  cluster\n",
       "0  2  3        1\n",
       "1  2  4        1\n",
       "2  2  5        1\n",
       "3  2  6        1\n",
       "4  4  8        3\n",
       "5  4  9        3"
      ]
     },
     "execution_count": 12,
     "metadata": {},
     "output_type": "execute_result"
    }
   ],
   "source": [
    "cluster_sampling(df, 'A', 4, 2)"
   ]
  },
  {
   "cell_type": "markdown",
   "metadata": {},
   "source": [
    "## To Add:\n",
    "\n",
    "- Bootstrap\n",
    "- Right Censoring  (atleast)\n",
    "- Systematic Random Sampling\n"
   ]
  }
 ],
 "metadata": {
  "kernelspec": {
   "display_name": "Python 3",
   "language": "python",
   "name": "python3"
  },
  "language_info": {
   "codemirror_mode": {
    "name": "ipython",
    "version": 3
   },
   "file_extension": ".py",
   "mimetype": "text/x-python",
   "name": "python",
   "nbconvert_exporter": "python",
   "pygments_lexer": "ipython3",
   "version": "3.7.6"
  }
 },
 "nbformat": 4,
 "nbformat_minor": 4
}
